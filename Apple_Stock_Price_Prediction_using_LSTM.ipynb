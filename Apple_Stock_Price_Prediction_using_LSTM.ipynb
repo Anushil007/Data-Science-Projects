{
  "nbformat": 4,
  "nbformat_minor": 0,
  "metadata": {
    "colab": {
      "name": "Apple Stock Price Prediction using LSTM.ipynb",
      "provenance": [],
      "collapsed_sections": [],
      "authorship_tag": "ABX9TyPCJdIoUdB/lgbNWwOFMyRH",
      "include_colab_link": true
    },
    "kernelspec": {
      "name": "python3",
      "display_name": "Python 3"
    },
    "language_info": {
      "name": "python"
    }
  },
  "cells": [
    {
      "cell_type": "markdown",
      "metadata": {
        "id": "view-in-github",
        "colab_type": "text"
      },
      "source": [
        "<a href=\"https://colab.research.google.com/github/Anushil007/Data-Science-Projects/blob/master/Apple_Stock_Price_Prediction_using_LSTM.ipynb\" target=\"_parent\"><img src=\"https://colab.research.google.com/assets/colab-badge.svg\" alt=\"Open In Colab\"/></a>"
      ]
    },
    {
      "cell_type": "markdown",
      "source": [
        "Project by Anushil Timsina and Manjil Karki"
      ],
      "metadata": {
        "id": "IkbthpLO5TWi"
      }
    },
    {
      "cell_type": "code",
      "execution_count": null,
      "metadata": {
        "id": "WTyVkHkeEaCJ"
      },
      "outputs": [],
      "source": [
        "# Import libraries\n",
        "import math\n",
        "import numpy as np\n",
        "import pandas as pd\n",
        "import pandas_datareader as web\n",
        "from sklearn.preprocessing import MinMaxScaler\n",
        "from keras.models import Sequential\n",
        "from keras.layers import Dense,LSTM\n",
        "import matplotlib.pyplot as plt\n",
        "plt.style.use('fivethirtyeight')\n",
        "from sklearn.metrics import r2_score\n",
        "\n",
        "# ! pip install --upgrade pandas-datareader"
      ]
    },
    {
      "cell_type": "code",
      "source": [
        "# Get the stock quote\n",
        "df = web.DataReader('AAPL',data_source='yahoo',start='2014-01-01',end = '2022-03-05')\n",
        "\n",
        "df"
      ],
      "metadata": {
        "colab": {
          "base_uri": "https://localhost:8080/",
          "height": 455
        },
        "id": "EXZDX3D5Hno5",
        "outputId": "da3d04d1-a6d5-4728-e996-481f4aa47fd1"
      },
      "execution_count": null,
      "outputs": [
        {
          "output_type": "execute_result",
          "data": {
            "text/html": [
              "\n",
              "  <div id=\"df-9f7c5ae8-340e-4846-908b-9d3fa296d60b\">\n",
              "    <div class=\"colab-df-container\">\n",
              "      <div>\n",
              "<style scoped>\n",
              "    .dataframe tbody tr th:only-of-type {\n",
              "        vertical-align: middle;\n",
              "    }\n",
              "\n",
              "    .dataframe tbody tr th {\n",
              "        vertical-align: top;\n",
              "    }\n",
              "\n",
              "    .dataframe thead th {\n",
              "        text-align: right;\n",
              "    }\n",
              "</style>\n",
              "<table border=\"1\" class=\"dataframe\">\n",
              "  <thead>\n",
              "    <tr style=\"text-align: right;\">\n",
              "      <th></th>\n",
              "      <th>High</th>\n",
              "      <th>Low</th>\n",
              "      <th>Open</th>\n",
              "      <th>Close</th>\n",
              "      <th>Volume</th>\n",
              "      <th>Adj Close</th>\n",
              "    </tr>\n",
              "    <tr>\n",
              "      <th>Date</th>\n",
              "      <th></th>\n",
              "      <th></th>\n",
              "      <th></th>\n",
              "      <th></th>\n",
              "      <th></th>\n",
              "      <th></th>\n",
              "    </tr>\n",
              "  </thead>\n",
              "  <tbody>\n",
              "    <tr>\n",
              "      <th>2014-01-02</th>\n",
              "      <td>19.893929</td>\n",
              "      <td>19.715000</td>\n",
              "      <td>19.845715</td>\n",
              "      <td>19.754642</td>\n",
              "      <td>234684800.0</td>\n",
              "      <td>17.494320</td>\n",
              "    </tr>\n",
              "    <tr>\n",
              "      <th>2014-01-03</th>\n",
              "      <td>19.775000</td>\n",
              "      <td>19.301071</td>\n",
              "      <td>19.745001</td>\n",
              "      <td>19.320715</td>\n",
              "      <td>392467600.0</td>\n",
              "      <td>17.110041</td>\n",
              "    </tr>\n",
              "    <tr>\n",
              "      <th>2014-01-06</th>\n",
              "      <td>19.528570</td>\n",
              "      <td>19.057142</td>\n",
              "      <td>19.194643</td>\n",
              "      <td>19.426071</td>\n",
              "      <td>412610800.0</td>\n",
              "      <td>17.203342</td>\n",
              "    </tr>\n",
              "    <tr>\n",
              "      <th>2014-01-07</th>\n",
              "      <td>19.498571</td>\n",
              "      <td>19.211430</td>\n",
              "      <td>19.440001</td>\n",
              "      <td>19.287144</td>\n",
              "      <td>317209200.0</td>\n",
              "      <td>17.080309</td>\n",
              "    </tr>\n",
              "    <tr>\n",
              "      <th>2014-01-08</th>\n",
              "      <td>19.484285</td>\n",
              "      <td>19.238930</td>\n",
              "      <td>19.243214</td>\n",
              "      <td>19.409286</td>\n",
              "      <td>258529600.0</td>\n",
              "      <td>17.188478</td>\n",
              "    </tr>\n",
              "    <tr>\n",
              "      <th>...</th>\n",
              "      <td>...</td>\n",
              "      <td>...</td>\n",
              "      <td>...</td>\n",
              "      <td>...</td>\n",
              "      <td>...</td>\n",
              "      <td>...</td>\n",
              "    </tr>\n",
              "    <tr>\n",
              "      <th>2022-02-28</th>\n",
              "      <td>165.419998</td>\n",
              "      <td>162.429993</td>\n",
              "      <td>163.059998</td>\n",
              "      <td>165.119995</td>\n",
              "      <td>94869100.0</td>\n",
              "      <td>165.119995</td>\n",
              "    </tr>\n",
              "    <tr>\n",
              "      <th>2022-03-01</th>\n",
              "      <td>166.600006</td>\n",
              "      <td>161.970001</td>\n",
              "      <td>164.699997</td>\n",
              "      <td>163.199997</td>\n",
              "      <td>83474400.0</td>\n",
              "      <td>163.199997</td>\n",
              "    </tr>\n",
              "    <tr>\n",
              "      <th>2022-03-02</th>\n",
              "      <td>167.360001</td>\n",
              "      <td>162.949997</td>\n",
              "      <td>164.389999</td>\n",
              "      <td>166.559998</td>\n",
              "      <td>79724800.0</td>\n",
              "      <td>166.559998</td>\n",
              "    </tr>\n",
              "    <tr>\n",
              "      <th>2022-03-03</th>\n",
              "      <td>168.910004</td>\n",
              "      <td>165.550003</td>\n",
              "      <td>168.470001</td>\n",
              "      <td>166.229996</td>\n",
              "      <td>76335600.0</td>\n",
              "      <td>166.229996</td>\n",
              "    </tr>\n",
              "    <tr>\n",
              "      <th>2022-03-04</th>\n",
              "      <td>165.550003</td>\n",
              "      <td>162.110001</td>\n",
              "      <td>164.490005</td>\n",
              "      <td>163.169998</td>\n",
              "      <td>83819592.0</td>\n",
              "      <td>163.169998</td>\n",
              "    </tr>\n",
              "  </tbody>\n",
              "</table>\n",
              "<p>2058 rows × 6 columns</p>\n",
              "</div>\n",
              "      <button class=\"colab-df-convert\" onclick=\"convertToInteractive('df-9f7c5ae8-340e-4846-908b-9d3fa296d60b')\"\n",
              "              title=\"Convert this dataframe to an interactive table.\"\n",
              "              style=\"display:none;\">\n",
              "        \n",
              "  <svg xmlns=\"http://www.w3.org/2000/svg\" height=\"24px\"viewBox=\"0 0 24 24\"\n",
              "       width=\"24px\">\n",
              "    <path d=\"M0 0h24v24H0V0z\" fill=\"none\"/>\n",
              "    <path d=\"M18.56 5.44l.94 2.06.94-2.06 2.06-.94-2.06-.94-.94-2.06-.94 2.06-2.06.94zm-11 1L8.5 8.5l.94-2.06 2.06-.94-2.06-.94L8.5 2.5l-.94 2.06-2.06.94zm10 10l.94 2.06.94-2.06 2.06-.94-2.06-.94-.94-2.06-.94 2.06-2.06.94z\"/><path d=\"M17.41 7.96l-1.37-1.37c-.4-.4-.92-.59-1.43-.59-.52 0-1.04.2-1.43.59L10.3 9.45l-7.72 7.72c-.78.78-.78 2.05 0 2.83L4 21.41c.39.39.9.59 1.41.59.51 0 1.02-.2 1.41-.59l7.78-7.78 2.81-2.81c.8-.78.8-2.07 0-2.86zM5.41 20L4 18.59l7.72-7.72 1.47 1.35L5.41 20z\"/>\n",
              "  </svg>\n",
              "      </button>\n",
              "      \n",
              "  <style>\n",
              "    .colab-df-container {\n",
              "      display:flex;\n",
              "      flex-wrap:wrap;\n",
              "      gap: 12px;\n",
              "    }\n",
              "\n",
              "    .colab-df-convert {\n",
              "      background-color: #E8F0FE;\n",
              "      border: none;\n",
              "      border-radius: 50%;\n",
              "      cursor: pointer;\n",
              "      display: none;\n",
              "      fill: #1967D2;\n",
              "      height: 32px;\n",
              "      padding: 0 0 0 0;\n",
              "      width: 32px;\n",
              "    }\n",
              "\n",
              "    .colab-df-convert:hover {\n",
              "      background-color: #E2EBFA;\n",
              "      box-shadow: 0px 1px 2px rgba(60, 64, 67, 0.3), 0px 1px 3px 1px rgba(60, 64, 67, 0.15);\n",
              "      fill: #174EA6;\n",
              "    }\n",
              "\n",
              "    [theme=dark] .colab-df-convert {\n",
              "      background-color: #3B4455;\n",
              "      fill: #D2E3FC;\n",
              "    }\n",
              "\n",
              "    [theme=dark] .colab-df-convert:hover {\n",
              "      background-color: #434B5C;\n",
              "      box-shadow: 0px 1px 3px 1px rgba(0, 0, 0, 0.15);\n",
              "      filter: drop-shadow(0px 1px 2px rgba(0, 0, 0, 0.3));\n",
              "      fill: #FFFFFF;\n",
              "    }\n",
              "  </style>\n",
              "\n",
              "      <script>\n",
              "        const buttonEl =\n",
              "          document.querySelector('#df-9f7c5ae8-340e-4846-908b-9d3fa296d60b button.colab-df-convert');\n",
              "        buttonEl.style.display =\n",
              "          google.colab.kernel.accessAllowed ? 'block' : 'none';\n",
              "\n",
              "        async function convertToInteractive(key) {\n",
              "          const element = document.querySelector('#df-9f7c5ae8-340e-4846-908b-9d3fa296d60b');\n",
              "          const dataTable =\n",
              "            await google.colab.kernel.invokeFunction('convertToInteractive',\n",
              "                                                     [key], {});\n",
              "          if (!dataTable) return;\n",
              "\n",
              "          const docLinkHtml = 'Like what you see? Visit the ' +\n",
              "            '<a target=\"_blank\" href=https://colab.research.google.com/notebooks/data_table.ipynb>data table notebook</a>'\n",
              "            + ' to learn more about interactive tables.';\n",
              "          element.innerHTML = '';\n",
              "          dataTable['output_type'] = 'display_data';\n",
              "          await google.colab.output.renderOutput(dataTable, element);\n",
              "          const docLink = document.createElement('div');\n",
              "          docLink.innerHTML = docLinkHtml;\n",
              "          element.appendChild(docLink);\n",
              "        }\n",
              "      </script>\n",
              "    </div>\n",
              "  </div>\n",
              "  "
            ],
            "text/plain": [
              "                  High         Low        Open       Close       Volume  \\\n",
              "Date                                                                      \n",
              "2014-01-02   19.893929   19.715000   19.845715   19.754642  234684800.0   \n",
              "2014-01-03   19.775000   19.301071   19.745001   19.320715  392467600.0   \n",
              "2014-01-06   19.528570   19.057142   19.194643   19.426071  412610800.0   \n",
              "2014-01-07   19.498571   19.211430   19.440001   19.287144  317209200.0   \n",
              "2014-01-08   19.484285   19.238930   19.243214   19.409286  258529600.0   \n",
              "...                ...         ...         ...         ...          ...   \n",
              "2022-02-28  165.419998  162.429993  163.059998  165.119995   94869100.0   \n",
              "2022-03-01  166.600006  161.970001  164.699997  163.199997   83474400.0   \n",
              "2022-03-02  167.360001  162.949997  164.389999  166.559998   79724800.0   \n",
              "2022-03-03  168.910004  165.550003  168.470001  166.229996   76335600.0   \n",
              "2022-03-04  165.550003  162.110001  164.490005  163.169998   83819592.0   \n",
              "\n",
              "             Adj Close  \n",
              "Date                    \n",
              "2014-01-02   17.494320  \n",
              "2014-01-03   17.110041  \n",
              "2014-01-06   17.203342  \n",
              "2014-01-07   17.080309  \n",
              "2014-01-08   17.188478  \n",
              "...                ...  \n",
              "2022-02-28  165.119995  \n",
              "2022-03-01  163.199997  \n",
              "2022-03-02  166.559998  \n",
              "2022-03-03  166.229996  \n",
              "2022-03-04  163.169998  \n",
              "\n",
              "[2058 rows x 6 columns]"
            ]
          },
          "metadata": {},
          "execution_count": 87
        }
      ]
    },
    {
      "cell_type": "code",
      "source": [
        "# Get the no of rows and columns\n",
        "df.shape"
      ],
      "metadata": {
        "colab": {
          "base_uri": "https://localhost:8080/"
        },
        "id": "95URCy4MJ9JW",
        "outputId": "83784516-abe6-4603-e141-15ec3261e8b6"
      },
      "execution_count": null,
      "outputs": [
        {
          "output_type": "execute_result",
          "data": {
            "text/plain": [
              "(2058, 6)"
            ]
          },
          "metadata": {},
          "execution_count": 88
        }
      ]
    },
    {
      "cell_type": "code",
      "source": [
        "df.isna().sum()"
      ],
      "metadata": {
        "colab": {
          "base_uri": "https://localhost:8080/"
        },
        "id": "2HNmwyy8OJST",
        "outputId": "12bc8753-7d23-4226-a145-794b49198b1e"
      },
      "execution_count": null,
      "outputs": [
        {
          "output_type": "execute_result",
          "data": {
            "text/plain": [
              "High         0\n",
              "Low          0\n",
              "Open         0\n",
              "Close        0\n",
              "Volume       0\n",
              "Adj Close    0\n",
              "dtype: int64"
            ]
          },
          "metadata": {},
          "execution_count": 89
        }
      ]
    },
    {
      "cell_type": "code",
      "source": [
        "# Visualise  the closing price\n",
        "\n",
        "plt.figure(figsize=(16,8))\n",
        "plt.title('Closing Price History',fontsize = 25)\n",
        "plt.plot(df['Close'])\n",
        "plt.xlabel('Date',fontsize = 25)\n",
        "plt.ylabel('Closing Price in USD',fontsize = 25)"
      ],
      "metadata": {
        "colab": {
          "base_uri": "https://localhost:8080/",
          "height": 586
        },
        "id": "600txAm1K37P",
        "outputId": "daff2a9f-912e-46e5-d425-cbc6ee4df2f0"
      },
      "execution_count": null,
      "outputs": [
        {
          "output_type": "execute_result",
          "data": {
            "text/plain": [
              "Text(0, 0.5, 'Closing Price in USD')"
            ]
          },
          "metadata": {},
          "execution_count": 90
        },
        {
          "output_type": "display_data",
          "data": {
            "image/png": "[encoded data removed]",
            "text/plain": [
              "<Figure size 1152x576 with 1 Axes>"
            ]
          },
          "metadata": {}
        }
      ]
    },
    {
      "cell_type": "code",
      "source": [
        "# df with only close column\n",
        "\n",
        "data = df.filter(['Close'])\n",
        "\n",
        "# Convert dataframe into numpy array\n",
        "dataset = data.values\n",
        "\n",
        "# Get the number of rows to train the model on\n",
        "training_data_len = math.ceil(len(dataset)*0.8)\n",
        "\n",
        "training_data_len"
      ],
      "metadata": {
        "colab": {
          "base_uri": "https://localhost:8080/"
        },
        "id": "Luos9pw5LQRm",
        "outputId": "2ea2d005-9c4a-42ed-bb65-8228b500acbe"
      },
      "execution_count": null,
      "outputs": [
        {
          "output_type": "execute_result",
          "data": {
            "text/plain": [
              "1647"
            ]
          },
          "metadata": {},
          "execution_count": 91
        }
      ]
    },
    {
      "cell_type": "code",
      "source": [
        "dataset.max()"
      ],
      "metadata": {
        "colab": {
          "base_uri": "https://localhost:8080/"
        },
        "id": "eR3_5tJZOZO3",
        "outputId": "3c293ebd-6989-4972-f4e2-447d8b438abb"
      },
      "execution_count": null,
      "outputs": [
        {
          "output_type": "execute_result",
          "data": {
            "text/plain": [
              "182.00999450683594"
            ]
          },
          "metadata": {},
          "execution_count": 92
        }
      ]
    },
    {
      "cell_type": "code",
      "source": [
        "# Scale the data\n",
        "# NOrmalize the data\n",
        "scaler = MinMaxScaler(feature_range = (0,1))\n",
        "scaled_data = scaler.fit_transform(dataset)\n",
        "\n",
        "scaled_data"
      ],
      "metadata": {
        "colab": {
          "base_uri": "https://localhost:8080/"
        },
        "id": "XTQl7M6WMlaT",
        "outputId": "0d6a6946-26bb-4e8a-dc33-7c09b2d553d7"
      },
      "execution_count": null,
      "outputs": [
        {
          "output_type": "execute_result",
          "data": {
            "text/plain": [
              "array([[0.01160666],\n",
              "       [0.00896335],\n",
              "       [0.00960514],\n",
              "       ...,\n",
              "       [0.90588493],\n",
              "       [0.90387469],\n",
              "       [0.88523444]])"
            ]
          },
          "metadata": {},
          "execution_count": 93
        }
      ]
    },
    {
      "cell_type": "code",
      "source": [
        "# Create the training data set\n",
        "# Create the scaled training data set\n",
        "\n",
        "train_data = scaled_data[0:training_data_len,:]\n",
        "\n",
        "# Split the data into x_train and y_train data sets\n",
        "x_train = []  # -> training variables \n",
        "y_train = []  # -> target variables\n",
        "\n",
        "# for 60 data\n",
        "\n",
        "for i in range(60,len(train_data)):\n",
        "  x_train.append(train_data[i-60:i,0])\n",
        "  y_train.append(train_data[i,0])\n",
        "\n",
        "  if i <= 61:\n",
        "    print(x_train)\n",
        "    print(y_train)\n",
        "    print()"
      ],
      "metadata": {
        "colab": {
          "base_uri": "https://localhost:8080/"
        },
        "id": "5xBTsnHVMmUv",
        "outputId": "41611878-8a33-497b-df99-7a1fe062828c"
      },
      "execution_count": null,
      "outputs": [
        {
          "output_type": "stream",
          "name": "stdout",
          "text": [
            "[array([0.01160666, 0.00896335, 0.00960514, 0.00875885, 0.00950289,\n",
            "       0.00799304, 0.00721419, 0.00782118, 0.01014033, 0.01252693,\n",
            "       0.01185033, 0.0088959 , 0.01072339, 0.01125423, 0.01227021,\n",
            "       0.01007071, 0.01103448, 0.00146199, 0.00021103, 0.        ,\n",
            "       0.00017839, 0.00038072, 0.00196018, 0.00278691, 0.0027695 ,\n",
            "       0.00432938, 0.00635484, 0.00787122, 0.0078625 , 0.00971392,\n",
            "       0.00961818, 0.01005331, 0.00817797, 0.00682476, 0.00554117,\n",
            "       0.00604155, 0.00484717, 0.00382248, 0.00606767, 0.00575656,\n",
            "       0.00608725, 0.00684434, 0.00708801, 0.00673774, 0.0066703 ,\n",
            "       0.00677473, 0.00789949, 0.00801262, 0.00671599, 0.00541935,\n",
            "       0.00586534, 0.00687915, 0.0068487 , 0.00629175, 0.00719896,\n",
            "       0.00857392, 0.00983575, 0.00870228, 0.00819754, 0.00806701])]\n",
            "[0.00804091068532381]\n",
            "\n",
            "[array([0.01160666, 0.00896335, 0.00960514, 0.00875885, 0.00950289,\n",
            "       0.00799304, 0.00721419, 0.00782118, 0.01014033, 0.01252693,\n",
            "       0.01185033, 0.0088959 , 0.01072339, 0.01125423, 0.01227021,\n",
            "       0.01007071, 0.01103448, 0.00146199, 0.00021103, 0.        ,\n",
            "       0.00017839, 0.00038072, 0.00196018, 0.00278691, 0.0027695 ,\n",
            "       0.00432938, 0.00635484, 0.00787122, 0.0078625 , 0.00971392,\n",
            "       0.00961818, 0.01005331, 0.00817797, 0.00682476, 0.00554117,\n",
            "       0.00604155, 0.00484717, 0.00382248, 0.00606767, 0.00575656,\n",
            "       0.00608725, 0.00684434, 0.00708801, 0.00673774, 0.0066703 ,\n",
            "       0.00677473, 0.00789949, 0.00801262, 0.00671599, 0.00541935,\n",
            "       0.00586534, 0.00687915, 0.0068487 , 0.00629175, 0.00719896,\n",
            "       0.00857392, 0.00983575, 0.00870228, 0.00819754, 0.00806701]), array([0.00896335, 0.00960514, 0.00875885, 0.00950289, 0.00799304,\n",
            "       0.00721419, 0.00782118, 0.01014033, 0.01252693, 0.01185033,\n",
            "       0.0088959 , 0.01072339, 0.01125423, 0.01227021, 0.01007071,\n",
            "       0.01103448, 0.00146199, 0.00021103, 0.        , 0.00017839,\n",
            "       0.00038072, 0.00196018, 0.00278691, 0.0027695 , 0.00432938,\n",
            "       0.00635484, 0.00787122, 0.0078625 , 0.00971392, 0.00961818,\n",
            "       0.01005331, 0.00817797, 0.00682476, 0.00554117, 0.00604155,\n",
            "       0.00484717, 0.00382248, 0.00606767, 0.00575656, 0.00608725,\n",
            "       0.00684434, 0.00708801, 0.00673774, 0.0066703 , 0.00677473,\n",
            "       0.00789949, 0.00801262, 0.00671599, 0.00541935, 0.00586534,\n",
            "       0.00687915, 0.0068487 , 0.00629175, 0.00719896, 0.00857392,\n",
            "       0.00983575, 0.00870228, 0.00819754, 0.00806701, 0.00804091])]\n",
            "[0.00804091068532381, 0.009109107283133272]\n",
            "\n"
          ]
        }
      ]
    },
    {
      "cell_type": "code",
      "source": [
        "# Convert x_train and y_train to numpy array\n",
        "\n",
        "x_train,y_train = np.array(x_train),np.array(y_train)"
      ],
      "metadata": {
        "id": "znIQQt6jX50Y"
      },
      "execution_count": null,
      "outputs": []
    },
    {
      "cell_type": "code",
      "source": [
        "# Reshape the data\n",
        "x_train = np.reshape(x_train,(x_train.shape[0],x_train.shape[1],1))\n",
        "x_train.shape"
      ],
      "metadata": {
        "colab": {
          "base_uri": "https://localhost:8080/"
        },
        "id": "UeHoRovxlT6K",
        "outputId": "bec723fa-12ad-4ec9-d9f4-f5957d799a32"
      },
      "execution_count": null,
      "outputs": [
        {
          "output_type": "execute_result",
          "data": {
            "text/plain": [
              "(1587, 60, 1)"
            ]
          },
          "metadata": {},
          "execution_count": 96
        }
      ]
    },
    {
      "cell_type": "code",
      "source": [
        "# Build the LSTM model\n",
        "\n",
        "model = Sequential()\n",
        "model.add(LSTM(50,return_sequences = True,input_shape=(x_train.shape[1],1)))\n",
        "model.add(LSTM(50,return_sequences=False))\n",
        "model.add(Dense(30))\n",
        "model.add(Dense(1))"
      ],
      "metadata": {
        "id": "V6LPDAkllbMR"
      },
      "execution_count": null,
      "outputs": []
    },
    {
      "cell_type": "code",
      "source": [
        "# Compile the model\n",
        "model.compile(optimizer = 'adam',loss = 'mean_squared_error')"
      ],
      "metadata": {
        "id": "974-3JlhmXYS"
      },
      "execution_count": null,
      "outputs": []
    },
    {
      "cell_type": "code",
      "source": [
        "# Train the model\n",
        "\n",
        "model.fit(x_train,y_train,batch_size=1,epochs=10)"
      ],
      "metadata": {
        "colab": {
          "base_uri": "https://localhost:8080/"
        },
        "id": "_oBrZgZxmkKc",
        "outputId": "2be6b570-f6fb-40d8-afac-8ce34481ff77"
      },
      "execution_count": null,
      "outputs": [
        {
          "output_type": "stream",
          "name": "stdout",
          "text": [
            "Epoch 1/10\n",
            "1587/1587 [==============================] - 44s 26ms/step - loss: 3.8163e-04\n",
            "Epoch 2/10\n",
            "1587/1587 [==============================] - 41s 26ms/step - loss: 1.8658e-04\n",
            "Epoch 3/10\n",
            "1587/1587 [==============================] - 41s 26ms/step - loss: 1.2270e-04\n",
            "Epoch 4/10\n",
            "1587/1587 [==============================] - 41s 26ms/step - loss: 1.2993e-04\n",
            "Epoch 5/10\n",
            "1587/1587 [==============================] - 42s 27ms/step - loss: 9.1666e-05\n",
            "Epoch 6/10\n",
            "1587/1587 [==============================] - 41s 26ms/step - loss: 1.0083e-04\n",
            "Epoch 7/10\n",
            "1587/1587 [==============================] - 41s 26ms/step - loss: 8.7568e-05\n",
            "Epoch 8/10\n",
            "1587/1587 [==============================] - 41s 26ms/step - loss: 8.7715e-05\n",
            "Epoch 9/10\n",
            "1587/1587 [==============================] - 41s 26ms/step - loss: 7.5140e-05\n",
            "Epoch 10/10\n",
            "1587/1587 [==============================] - 41s 26ms/step - loss: 8.0230e-05\n"
          ]
        },
        {
          "output_type": "execute_result",
          "data": {
            "text/plain": [
              "<keras.callbacks.History at 0x7f5b0e75e350>"
            ]
          },
          "metadata": {},
          "execution_count": 99
        }
      ]
    },
    {
      "cell_type": "code",
      "source": [
        "# Create the testing dataset\n",
        "# Create a new array containing values from 1543 to 2003\n",
        "\n",
        "test_data = scaled_data[training_data_len-60:,:]\n",
        "\n",
        "# Create the datasets x_test and y_test\n",
        "\n",
        "x_test = []\n",
        "y_test = dataset[training_data_len:,:]\n",
        "\n",
        "for i in range(60,len(test_data)):\n",
        "  x_test.append(test_data[i-60:i,0])\n"
      ],
      "metadata": {
        "id": "Suvl2QxumusM"
      },
      "execution_count": null,
      "outputs": []
    },
    {
      "cell_type": "code",
      "source": [
        "# Convert the data into numoy array\n",
        "\n",
        "x_test = np.array(x_test)"
      ],
      "metadata": {
        "id": "8pwD9bHxnpXI"
      },
      "execution_count": null,
      "outputs": []
    },
    {
      "cell_type": "code",
      "source": [
        "# Reshape the data -> LSTM requires 3D data\n",
        "\n",
        "x_test = np.reshape(x_test,(x_test.shape[0],x_test.shape[1],1))"
      ],
      "metadata": {
        "id": "CfysAiPtn6A2"
      },
      "execution_count": null,
      "outputs": []
    },
    {
      "cell_type": "code",
      "source": [
        "# Get the models predicted price value\n",
        "# predictions should contain same values as y_train for max accuracy\n",
        "\n",
        "predictions = model.predict(x_test)"
      ],
      "metadata": {
        "id": "PuiMMG7LoK1Z"
      },
      "execution_count": null,
      "outputs": []
    },
    {
      "cell_type": "code",
      "source": [
        "predictions = scaler.inverse_transform(predictions)"
      ],
      "metadata": {
        "id": "R_1l3iVwoQt_"
      },
      "execution_count": null,
      "outputs": []
    },
    {
      "cell_type": "code",
      "source": [
        "# Get the root mean square error\n",
        "\n",
        "rmse = np.sqrt(np.mean(predictions - y_test)**2)"
      ],
      "metadata": {
        "id": "JS1mj9lWoeb9"
      },
      "execution_count": null,
      "outputs": []
    },
    {
      "cell_type": "code",
      "source": [
        "rmse"
      ],
      "metadata": {
        "colab": {
          "base_uri": "https://localhost:8080/"
        },
        "id": "rOV_PU1LpDNA",
        "outputId": "b58107b7-ead3-4c56-c256-36b517214e50"
      },
      "execution_count": null,
      "outputs": [
        {
          "output_type": "execute_result",
          "data": {
            "text/plain": [
              "4.493162002006587"
            ]
          },
          "metadata": {},
          "execution_count": 106
        }
      ]
    },
    {
      "cell_type": "code",
      "source": [
        "# Plot the data\n",
        "train = data[:training_data_len]\n",
        "\n",
        "valid = data[training_data_len:]\n",
        "\n",
        "valid['Predictions'] = predictions"
      ],
      "metadata": {
        "colab": {
          "base_uri": "https://localhost:8080/"
        },
        "id": "0JMUlKZYpEIr",
        "outputId": "ba36c9a4-882a-4af9-c80d-ea16366c023d"
      },
      "execution_count": null,
      "outputs": [
        {
          "output_type": "stream",
          "name": "stderr",
          "text": [
            "/usr/local/lib/python3.7/dist-packages/ipykernel_launcher.py:6: SettingWithCopyWarning: \n",
            "A value is trying to be set on a copy of a slice from a DataFrame.\n",
            "Try using .loc[row_indexer,col_indexer] = value instead\n",
            "\n",
            "See the caveats in the documentation: https://pandas.pydata.org/pandas-docs/stable/user_guide/indexing.html#returning-a-view-versus-a-copy\n",
            "  \n"
          ]
        }
      ]
    },
    {
      "cell_type": "code",
      "source": [
        "r2 = r2_score(valid['Close'],valid['Predictions'])\n",
        "r2"
      ],
      "metadata": {
        "colab": {
          "base_uri": "https://localhost:8080/"
        },
        "id": "CVwYycKt3DIe",
        "outputId": "68dd9402-9343-4b7a-ad03-57148a092b5f"
      },
      "execution_count": null,
      "outputs": [
        {
          "output_type": "execute_result",
          "data": {
            "text/plain": [
              "0.9256351002000823"
            ]
          },
          "metadata": {},
          "execution_count": 108
        }
      ]
    },
    {
      "cell_type": "code",
      "source": [
        "# Visualise\n",
        "\n",
        "plt.figure(figsize = (16,8))\n",
        "plt.title('Model',fontsize = 25)\n",
        "plt.xlabel('Date',fontsize = 25)\n",
        "plt.ylabel('Close Price USD',fontsize = 25)\n",
        "plt.plot(train['Close'])\n",
        "plt.plot(valid[['Close','Predictions']])\n",
        "plt.legend(['Train','Value','Predictions'],loc = 'lower right')\n",
        "plt.show()"
      ],
      "metadata": {
        "colab": {
          "base_uri": "https://localhost:8080/",
          "height": 568
        },
        "id": "QmNdLu78ph5J",
        "outputId": "ca8bdc7b-d70c-4d30-bf93-2fe58e1fffd6"
      },
      "execution_count": null,
      "outputs": [
        {
          "output_type": "display_data",
          "data": {
            "image/png": "[encoded data removed]",
            "text/plain": [
              "<Figure size 1152x576 with 1 Axes>"
            ]
          },
          "metadata": {}
        }
      ]
    },
    {
      "cell_type": "code",
      "source": [
        "valid"
      ],
      "metadata": {
        "colab": {
          "base_uri": "https://localhost:8080/",
          "height": 455
        },
        "id": "4tL_45nKqNVE",
        "outputId": "b3a58e52-5ec7-49f0-efea-ee24f5106f64"
      },
      "execution_count": null,
      "outputs": [
        {
          "output_type": "execute_result",
          "data": {
            "text/html": [
              "\n",
              "  <div id=\"df-109d6e14-ce11-43ea-91f6-dda035175efe\">\n",
              "    <div class=\"colab-df-container\">\n",
              "      <div>\n",
              "<style scoped>\n",
              "    .dataframe tbody tr th:only-of-type {\n",
              "        vertical-align: middle;\n",
              "    }\n",
              "\n",
              "    .dataframe tbody tr th {\n",
              "        vertical-align: top;\n",
              "    }\n",
              "\n",
              "    .dataframe thead th {\n",
              "        text-align: right;\n",
              "    }\n",
              "</style>\n",
              "<table border=\"1\" class=\"dataframe\">\n",
              "  <thead>\n",
              "    <tr style=\"text-align: right;\">\n",
              "      <th></th>\n",
              "      <th>Close</th>\n",
              "      <th>Predictions</th>\n",
              "    </tr>\n",
              "    <tr>\n",
              "      <th>Date</th>\n",
              "      <th></th>\n",
              "      <th></th>\n",
              "    </tr>\n",
              "  </thead>\n",
              "  <tbody>\n",
              "    <tr>\n",
              "      <th>2020-07-20</th>\n",
              "      <td>98.357498</td>\n",
              "      <td>94.910057</td>\n",
              "    </tr>\n",
              "    <tr>\n",
              "      <th>2020-07-21</th>\n",
              "      <td>97.000000</td>\n",
              "      <td>96.495354</td>\n",
              "    </tr>\n",
              "    <tr>\n",
              "      <th>2020-07-22</th>\n",
              "      <td>97.272499</td>\n",
              "      <td>95.726997</td>\n",
              "    </tr>\n",
              "    <tr>\n",
              "      <th>2020-07-23</th>\n",
              "      <td>92.845001</td>\n",
              "      <td>95.726059</td>\n",
              "    </tr>\n",
              "    <tr>\n",
              "      <th>2020-07-24</th>\n",
              "      <td>92.614998</td>\n",
              "      <td>92.164055</td>\n",
              "    </tr>\n",
              "    <tr>\n",
              "      <th>...</th>\n",
              "      <td>...</td>\n",
              "      <td>...</td>\n",
              "    </tr>\n",
              "    <tr>\n",
              "      <th>2022-02-28</th>\n",
              "      <td>165.119995</td>\n",
              "      <td>157.287933</td>\n",
              "    </tr>\n",
              "    <tr>\n",
              "      <th>2022-03-01</th>\n",
              "      <td>163.199997</td>\n",
              "      <td>157.912170</td>\n",
              "    </tr>\n",
              "    <tr>\n",
              "      <th>2022-03-02</th>\n",
              "      <td>166.559998</td>\n",
              "      <td>156.396072</td>\n",
              "    </tr>\n",
              "    <tr>\n",
              "      <th>2022-03-03</th>\n",
              "      <td>166.229996</td>\n",
              "      <td>158.872116</td>\n",
              "    </tr>\n",
              "    <tr>\n",
              "      <th>2022-03-04</th>\n",
              "      <td>163.169998</td>\n",
              "      <td>159.158325</td>\n",
              "    </tr>\n",
              "  </tbody>\n",
              "</table>\n",
              "<p>411 rows × 2 columns</p>\n",
              "</div>\n",
              "      <button class=\"colab-df-convert\" onclick=\"convertToInteractive('df-109d6e14-ce11-43ea-91f6-dda035175efe')\"\n",
              "              title=\"Convert this dataframe to an interactive table.\"\n",
              "              style=\"display:none;\">\n",
              "        \n",
              "  <svg xmlns=\"http://www.w3.org/2000/svg\" height=\"24px\"viewBox=\"0 0 24 24\"\n",
              "       width=\"24px\">\n",
              "    <path d=\"M0 0h24v24H0V0z\" fill=\"none\"/>\n",
              "    <path d=\"M18.56 5.44l.94 2.06.94-2.06 2.06-.94-2.06-.94-.94-2.06-.94 2.06-2.06.94zm-11 1L8.5 8.5l.94-2.06 2.06-.94-2.06-.94L8.5 2.5l-.94 2.06-2.06.94zm10 10l.94 2.06.94-2.06 2.06-.94-2.06-.94-.94-2.06-.94 2.06-2.06.94z\"/><path d=\"M17.41 7.96l-1.37-1.37c-.4-.4-.92-.59-1.43-.59-.52 0-1.04.2-1.43.59L10.3 9.45l-7.72 7.72c-.78.78-.78 2.05 0 2.83L4 21.41c.39.39.9.59 1.41.59.51 0 1.02-.2 1.41-.59l7.78-7.78 2.81-2.81c.8-.78.8-2.07 0-2.86zM5.41 20L4 18.59l7.72-7.72 1.47 1.35L5.41 20z\"/>\n",
              "  </svg>\n",
              "      </button>\n",
              "      \n",
              "  <style>\n",
              "    .colab-df-container {\n",
              "      display:flex;\n",
              "      flex-wrap:wrap;\n",
              "      gap: 12px;\n",
              "    }\n",
              "\n",
              "    .colab-df-convert {\n",
              "      background-color: #E8F0FE;\n",
              "      border: none;\n",
              "      border-radius: 50%;\n",
              "      cursor: pointer;\n",
              "      display: none;\n",
              "      fill: #1967D2;\n",
              "      height: 32px;\n",
              "      padding: 0 0 0 0;\n",
              "      width: 32px;\n",
              "    }\n",
              "\n",
              "    .colab-df-convert:hover {\n",
              "      background-color: #E2EBFA;\n",
              "      box-shadow: 0px 1px 2px rgba(60, 64, 67, 0.3), 0px 1px 3px 1px rgba(60, 64, 67, 0.15);\n",
              "      fill: #174EA6;\n",
              "    }\n",
              "\n",
              "    [theme=dark] .colab-df-convert {\n",
              "      background-color: #3B4455;\n",
              "      fill: #D2E3FC;\n",
              "    }\n",
              "\n",
              "    [theme=dark] .colab-df-convert:hover {\n",
              "      background-color: #434B5C;\n",
              "      box-shadow: 0px 1px 3px 1px rgba(0, 0, 0, 0.15);\n",
              "      filter: drop-shadow(0px 1px 2px rgba(0, 0, 0, 0.3));\n",
              "      fill: #FFFFFF;\n",
              "    }\n",
              "  </style>\n",
              "\n",
              "      <script>\n",
              "        const buttonEl =\n",
              "          document.querySelector('#df-109d6e14-ce11-43ea-91f6-dda035175efe button.colab-df-convert');\n",
              "        buttonEl.style.display =\n",
              "          google.colab.kernel.accessAllowed ? 'block' : 'none';\n",
              "\n",
              "        async function convertToInteractive(key) {\n",
              "          const element = document.querySelector('#df-109d6e14-ce11-43ea-91f6-dda035175efe');\n",
              "          const dataTable =\n",
              "            await google.colab.kernel.invokeFunction('convertToInteractive',\n",
              "                                                     [key], {});\n",
              "          if (!dataTable) return;\n",
              "\n",
              "          const docLinkHtml = 'Like what you see? Visit the ' +\n",
              "            '<a target=\"_blank\" href=https://colab.research.google.com/notebooks/data_table.ipynb>data table notebook</a>'\n",
              "            + ' to learn more about interactive tables.';\n",
              "          element.innerHTML = '';\n",
              "          dataTable['output_type'] = 'display_data';\n",
              "          await google.colab.output.renderOutput(dataTable, element);\n",
              "          const docLink = document.createElement('div');\n",
              "          docLink.innerHTML = docLinkHtml;\n",
              "          element.appendChild(docLink);\n",
              "        }\n",
              "      </script>\n",
              "    </div>\n",
              "  </div>\n",
              "  "
            ],
            "text/plain": [
              "                 Close  Predictions\n",
              "Date                               \n",
              "2020-07-20   98.357498    94.910057\n",
              "2020-07-21   97.000000    96.495354\n",
              "2020-07-22   97.272499    95.726997\n",
              "2020-07-23   92.845001    95.726059\n",
              "2020-07-24   92.614998    92.164055\n",
              "...                ...          ...\n",
              "2022-02-28  165.119995   157.287933\n",
              "2022-03-01  163.199997   157.912170\n",
              "2022-03-02  166.559998   156.396072\n",
              "2022-03-03  166.229996   158.872116\n",
              "2022-03-04  163.169998   159.158325\n",
              "\n",
              "[411 rows x 2 columns]"
            ]
          },
          "metadata": {},
          "execution_count": 110
        }
      ]
    },
    {
      "cell_type": "code",
      "source": [
        "# Get the quote\n",
        "\n",
        "apple_quote = web.DataReader('AAPL',data_source='yahoo',start = '2014-01-01',end = '2022-03-03')\n",
        "\n",
        "# Create a new dataframe\n",
        "\n",
        "new_df = apple_quote.filter(['Close'])\n",
        "\n",
        "# Fet the last 60 day closing price values and convert the df to an array\n",
        "last_60_days = new_df[-60:].values\n",
        "\n",
        "# Scale the data betwn values 0 and 1\n",
        "last_60_days_scaled = scaler.transform(last_60_days)\n",
        "\n",
        "# Create an empty list\n",
        "X_test = []\n",
        "\n",
        "# Append the last 60 days\n",
        "\n",
        "X_test.append(last_60_days_scaled)\n",
        "\n",
        "#Convert thr X-test data set to numpy array\n",
        "X_test = np.array(X_test)\n",
        "\n",
        "# Reshape the data\n",
        "X_test = np.reshape(X_test,(X_test.shape[0],X_test.shape[1],1))\n",
        "\n",
        "# Get the predicted scaled price\n",
        "pred_price = model.predict(X_test)\n",
        "\n",
        "#undo the scaling\n",
        "pred_price = scaler.inverse_transform(pred_price)\n",
        "print(pred_price)"
      ],
      "metadata": {
        "colab": {
          "base_uri": "https://localhost:8080/"
        },
        "id": "_1s1yclZqyeJ",
        "outputId": "50729c03-f3f5-423e-d182-981a9479b5ec"
      },
      "execution_count": null,
      "outputs": [
        {
          "output_type": "stream",
          "name": "stdout",
          "text": [
            "[[159.15833]]\n"
          ]
        }
      ]
    },
    {
      "cell_type": "code",
      "source": [
        "# Get the price\n",
        "apple_quote_pred = web.DataReader('AAPL',data_source='yahoo',start = '2022-03-04',end = '2022-03-04')\n",
        "print(apple_quote_pred)\n"
      ],
      "metadata": {
        "colab": {
          "base_uri": "https://localhost:8080/"
        },
        "id": "hvnN1pD5za7m",
        "outputId": "82ed498f-a142-47dd-993c-7a713b077fb7"
      },
      "execution_count": null,
      "outputs": [
        {
          "output_type": "stream",
          "name": "stdout",
          "text": [
            "                  High         Low        Open       Close    Volume  \\\n",
            "Date                                                                   \n",
            "2022-03-04  165.550003  162.110001  164.490005  163.169998  83819592   \n",
            "\n",
            "             Adj Close  \n",
            "Date                    \n",
            "2022-03-04  163.169998  \n"
          ]
        }
      ]
    },
    {
      "cell_type": "code",
      "source": [
        ""
      ],
      "metadata": {
        "id": "5YRaMiRjzz-D"
      },
      "execution_count": null,
      "outputs": []
    }
  ]
}